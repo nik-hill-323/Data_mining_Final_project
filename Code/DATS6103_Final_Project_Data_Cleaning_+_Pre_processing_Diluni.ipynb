{
  "nbformat": 4,
  "nbformat_minor": 0,
  "metadata": {
    "colab": {
      "provenance": []
    },
    "kernelspec": {
      "name": "python3",
      "display_name": "Python 3"
    },
    "language_info": {
      "name": "python"
    }
  },
  "cells": [
    {
      "cell_type": "code",
      "execution_count": 1,
      "metadata": {
        "id": "trFenpygchbH"
      },
      "outputs": [],
      "source": [
        "#Importing Libraries\n",
        "import pandas as pd\n",
        "import numpy as np\n",
        "import matplotlib.pyplot as plt\n",
        "import seaborn as sns\n",
        "import matplotlib.pyplot as plt\n",
        "import seaborn as sns\n",
        "from sklearn.utils import resample\n",
        "from scipy.stats import zscore\n"
      ]
    },
    {
      "cell_type": "code",
      "source": [
        "df_org = pd.read_csv('telecom_customer_churn.csv')\n",
        "df_org.head()"
      ],
      "metadata": {
        "colab": {
          "base_uri": "https://localhost:8080/",
          "height": 411
        },
        "id": "gKdmJt7HcyCU",
        "outputId": "7f19f472-af01-46ba-8565-093fc15badcb"
      },
      "execution_count": 9,
      "outputs": [
        {
          "output_type": "execute_result",
          "data": {
            "text/plain": [
              "  Customer ID  Gender  Age Married  Number of Dependents          City  \\\n",
              "0  0002-ORFBO  Female   37     Yes                     0  Frazier Park   \n",
              "1  0003-MKNFE    Male   46      No                     0      Glendale   \n",
              "2  0004-TLHLJ    Male   50      No                     0    Costa Mesa   \n",
              "3  0011-IGKFF    Male   78     Yes                     0      Martinez   \n",
              "4  0013-EXCHZ  Female   75     Yes                     0     Camarillo   \n",
              "\n",
              "   Zip Code   Latitude   Longitude  Number of Referrals  ...   Payment Method  \\\n",
              "0     93225  34.827662 -118.999073                    2  ...      Credit Card   \n",
              "1     91206  34.162515 -118.203869                    0  ...      Credit Card   \n",
              "2     92627  33.645672 -117.922613                    0  ...  Bank Withdrawal   \n",
              "3     94553  38.014457 -122.115432                    1  ...  Bank Withdrawal   \n",
              "4     93010  34.227846 -119.079903                    3  ...      Credit Card   \n",
              "\n",
              "  Monthly Charge Total Charges  Total Refunds Total Extra Data Charges  \\\n",
              "0           65.6        593.30           0.00                        0   \n",
              "1           -4.0        542.40          38.33                       10   \n",
              "2           73.9        280.85           0.00                        0   \n",
              "3           98.0       1237.85           0.00                        0   \n",
              "4           83.9        267.40           0.00                        0   \n",
              "\n",
              "  Total Long Distance Charges Total Revenue  Customer Status   Churn Category  \\\n",
              "0                      381.51        974.81           Stayed              NaN   \n",
              "1                       96.21        610.28           Stayed              NaN   \n",
              "2                      134.60        415.45          Churned       Competitor   \n",
              "3                      361.66       1599.51          Churned  Dissatisfaction   \n",
              "4                       22.14        289.54          Churned  Dissatisfaction   \n",
              "\n",
              "                    Churn Reason  \n",
              "0                            NaN  \n",
              "1                            NaN  \n",
              "2  Competitor had better devices  \n",
              "3        Product dissatisfaction  \n",
              "4            Network reliability  \n",
              "\n",
              "[5 rows x 38 columns]"
            ],
            "text/html": [
              "\n",
              "  <div id=\"df-d9945864-8877-4247-b18c-608785ca0238\" class=\"colab-df-container\">\n",
              "    <div>\n",
              "<style scoped>\n",
              "    .dataframe tbody tr th:only-of-type {\n",
              "        vertical-align: middle;\n",
              "    }\n",
              "\n",
              "    .dataframe tbody tr th {\n",
              "        vertical-align: top;\n",
              "    }\n",
              "\n",
              "    .dataframe thead th {\n",
              "        text-align: right;\n",
              "    }\n",
              "</style>\n",
              "<table border=\"1\" class=\"dataframe\">\n",
              "  <thead>\n",
              "    <tr style=\"text-align: right;\">\n",
              "      <th></th>\n",
              "      <th>Customer ID</th>\n",
              "      <th>Gender</th>\n",
              "      <th>Age</th>\n",
              "      <th>Married</th>\n",
              "      <th>Number of Dependents</th>\n",
              "      <th>City</th>\n",
              "      <th>Zip Code</th>\n",
              "      <th>Latitude</th>\n",
              "      <th>Longitude</th>\n",
              "      <th>Number of Referrals</th>\n",
              "      <th>...</th>\n",
              "      <th>Payment Method</th>\n",
              "      <th>Monthly Charge</th>\n",
              "      <th>Total Charges</th>\n",
              "      <th>Total Refunds</th>\n",
              "      <th>Total Extra Data Charges</th>\n",
              "      <th>Total Long Distance Charges</th>\n",
              "      <th>Total Revenue</th>\n",
              "      <th>Customer Status</th>\n",
              "      <th>Churn Category</th>\n",
              "      <th>Churn Reason</th>\n",
              "    </tr>\n",
              "  </thead>\n",
              "  <tbody>\n",
              "    <tr>\n",
              "      <th>0</th>\n",
              "      <td>0002-ORFBO</td>\n",
              "      <td>Female</td>\n",
              "      <td>37</td>\n",
              "      <td>Yes</td>\n",
              "      <td>0</td>\n",
              "      <td>Frazier Park</td>\n",
              "      <td>93225</td>\n",
              "      <td>34.827662</td>\n",
              "      <td>-118.999073</td>\n",
              "      <td>2</td>\n",
              "      <td>...</td>\n",
              "      <td>Credit Card</td>\n",
              "      <td>65.6</td>\n",
              "      <td>593.30</td>\n",
              "      <td>0.00</td>\n",
              "      <td>0</td>\n",
              "      <td>381.51</td>\n",
              "      <td>974.81</td>\n",
              "      <td>Stayed</td>\n",
              "      <td>NaN</td>\n",
              "      <td>NaN</td>\n",
              "    </tr>\n",
              "    <tr>\n",
              "      <th>1</th>\n",
              "      <td>0003-MKNFE</td>\n",
              "      <td>Male</td>\n",
              "      <td>46</td>\n",
              "      <td>No</td>\n",
              "      <td>0</td>\n",
              "      <td>Glendale</td>\n",
              "      <td>91206</td>\n",
              "      <td>34.162515</td>\n",
              "      <td>-118.203869</td>\n",
              "      <td>0</td>\n",
              "      <td>...</td>\n",
              "      <td>Credit Card</td>\n",
              "      <td>-4.0</td>\n",
              "      <td>542.40</td>\n",
              "      <td>38.33</td>\n",
              "      <td>10</td>\n",
              "      <td>96.21</td>\n",
              "      <td>610.28</td>\n",
              "      <td>Stayed</td>\n",
              "      <td>NaN</td>\n",
              "      <td>NaN</td>\n",
              "    </tr>\n",
              "    <tr>\n",
              "      <th>2</th>\n",
              "      <td>0004-TLHLJ</td>\n",
              "      <td>Male</td>\n",
              "      <td>50</td>\n",
              "      <td>No</td>\n",
              "      <td>0</td>\n",
              "      <td>Costa Mesa</td>\n",
              "      <td>92627</td>\n",
              "      <td>33.645672</td>\n",
              "      <td>-117.922613</td>\n",
              "      <td>0</td>\n",
              "      <td>...</td>\n",
              "      <td>Bank Withdrawal</td>\n",
              "      <td>73.9</td>\n",
              "      <td>280.85</td>\n",
              "      <td>0.00</td>\n",
              "      <td>0</td>\n",
              "      <td>134.60</td>\n",
              "      <td>415.45</td>\n",
              "      <td>Churned</td>\n",
              "      <td>Competitor</td>\n",
              "      <td>Competitor had better devices</td>\n",
              "    </tr>\n",
              "    <tr>\n",
              "      <th>3</th>\n",
              "      <td>0011-IGKFF</td>\n",
              "      <td>Male</td>\n",
              "      <td>78</td>\n",
              "      <td>Yes</td>\n",
              "      <td>0</td>\n",
              "      <td>Martinez</td>\n",
              "      <td>94553</td>\n",
              "      <td>38.014457</td>\n",
              "      <td>-122.115432</td>\n",
              "      <td>1</td>\n",
              "      <td>...</td>\n",
              "      <td>Bank Withdrawal</td>\n",
              "      <td>98.0</td>\n",
              "      <td>1237.85</td>\n",
              "      <td>0.00</td>\n",
              "      <td>0</td>\n",
              "      <td>361.66</td>\n",
              "      <td>1599.51</td>\n",
              "      <td>Churned</td>\n",
              "      <td>Dissatisfaction</td>\n",
              "      <td>Product dissatisfaction</td>\n",
              "    </tr>\n",
              "    <tr>\n",
              "      <th>4</th>\n",
              "      <td>0013-EXCHZ</td>\n",
              "      <td>Female</td>\n",
              "      <td>75</td>\n",
              "      <td>Yes</td>\n",
              "      <td>0</td>\n",
              "      <td>Camarillo</td>\n",
              "      <td>93010</td>\n",
              "      <td>34.227846</td>\n",
              "      <td>-119.079903</td>\n",
              "      <td>3</td>\n",
              "      <td>...</td>\n",
              "      <td>Credit Card</td>\n",
              "      <td>83.9</td>\n",
              "      <td>267.40</td>\n",
              "      <td>0.00</td>\n",
              "      <td>0</td>\n",
              "      <td>22.14</td>\n",
              "      <td>289.54</td>\n",
              "      <td>Churned</td>\n",
              "      <td>Dissatisfaction</td>\n",
              "      <td>Network reliability</td>\n",
              "    </tr>\n",
              "  </tbody>\n",
              "</table>\n",
              "<p>5 rows × 38 columns</p>\n",
              "</div>\n",
              "    <div class=\"colab-df-buttons\">\n",
              "\n",
              "  <div class=\"colab-df-container\">\n",
              "    <button class=\"colab-df-convert\" onclick=\"convertToInteractive('df-d9945864-8877-4247-b18c-608785ca0238')\"\n",
              "            title=\"Convert this dataframe to an interactive table.\"\n",
              "            style=\"display:none;\">\n",
              "\n",
              "  <svg xmlns=\"http://www.w3.org/2000/svg\" height=\"24px\" viewBox=\"0 -960 960 960\">\n",
              "    <path d=\"M120-120v-720h720v720H120Zm60-500h600v-160H180v160Zm220 220h160v-160H400v160Zm0 220h160v-160H400v160ZM180-400h160v-160H180v160Zm440 0h160v-160H620v160ZM180-180h160v-160H180v160Zm440 0h160v-160H620v160Z\"/>\n",
              "  </svg>\n",
              "    </button>\n",
              "\n",
              "  <style>\n",
              "    .colab-df-container {\n",
              "      display:flex;\n",
              "      gap: 12px;\n",
              "    }\n",
              "\n",
              "    .colab-df-convert {\n",
              "      background-color: #E8F0FE;\n",
              "      border: none;\n",
              "      border-radius: 50%;\n",
              "      cursor: pointer;\n",
              "      display: none;\n",
              "      fill: #1967D2;\n",
              "      height: 32px;\n",
              "      padding: 0 0 0 0;\n",
              "      width: 32px;\n",
              "    }\n",
              "\n",
              "    .colab-df-convert:hover {\n",
              "      background-color: #E2EBFA;\n",
              "      box-shadow: 0px 1px 2px rgba(60, 64, 67, 0.3), 0px 1px 3px 1px rgba(60, 64, 67, 0.15);\n",
              "      fill: #174EA6;\n",
              "    }\n",
              "\n",
              "    .colab-df-buttons div {\n",
              "      margin-bottom: 4px;\n",
              "    }\n",
              "\n",
              "    [theme=dark] .colab-df-convert {\n",
              "      background-color: #3B4455;\n",
              "      fill: #D2E3FC;\n",
              "    }\n",
              "\n",
              "    [theme=dark] .colab-df-convert:hover {\n",
              "      background-color: #434B5C;\n",
              "      box-shadow: 0px 1px 3px 1px rgba(0, 0, 0, 0.15);\n",
              "      filter: drop-shadow(0px 1px 2px rgba(0, 0, 0, 0.3));\n",
              "      fill: #FFFFFF;\n",
              "    }\n",
              "  </style>\n",
              "\n",
              "    <script>\n",
              "      const buttonEl =\n",
              "        document.querySelector('#df-d9945864-8877-4247-b18c-608785ca0238 button.colab-df-convert');\n",
              "      buttonEl.style.display =\n",
              "        google.colab.kernel.accessAllowed ? 'block' : 'none';\n",
              "\n",
              "      async function convertToInteractive(key) {\n",
              "        const element = document.querySelector('#df-d9945864-8877-4247-b18c-608785ca0238');\n",
              "        const dataTable =\n",
              "          await google.colab.kernel.invokeFunction('convertToInteractive',\n",
              "                                                    [key], {});\n",
              "        if (!dataTable) return;\n",
              "\n",
              "        const docLinkHtml = 'Like what you see? Visit the ' +\n",
              "          '<a target=\"_blank\" href=https://colab.research.google.com/notebooks/data_table.ipynb>data table notebook</a>'\n",
              "          + ' to learn more about interactive tables.';\n",
              "        element.innerHTML = '';\n",
              "        dataTable['output_type'] = 'display_data';\n",
              "        await google.colab.output.renderOutput(dataTable, element);\n",
              "        const docLink = document.createElement('div');\n",
              "        docLink.innerHTML = docLinkHtml;\n",
              "        element.appendChild(docLink);\n",
              "      }\n",
              "    </script>\n",
              "  </div>\n",
              "\n",
              "\n",
              "<div id=\"df-c8c9b0a7-73a1-445c-ad5d-f1b7edb46114\">\n",
              "  <button class=\"colab-df-quickchart\" onclick=\"quickchart('df-c8c9b0a7-73a1-445c-ad5d-f1b7edb46114')\"\n",
              "            title=\"Suggest charts\"\n",
              "            style=\"display:none;\">\n",
              "\n",
              "<svg xmlns=\"http://www.w3.org/2000/svg\" height=\"24px\"viewBox=\"0 0 24 24\"\n",
              "     width=\"24px\">\n",
              "    <g>\n",
              "        <path d=\"M19 3H5c-1.1 0-2 .9-2 2v14c0 1.1.9 2 2 2h14c1.1 0 2-.9 2-2V5c0-1.1-.9-2-2-2zM9 17H7v-7h2v7zm4 0h-2V7h2v10zm4 0h-2v-4h2v4z\"/>\n",
              "    </g>\n",
              "</svg>\n",
              "  </button>\n",
              "\n",
              "<style>\n",
              "  .colab-df-quickchart {\n",
              "      --bg-color: #E8F0FE;\n",
              "      --fill-color: #1967D2;\n",
              "      --hover-bg-color: #E2EBFA;\n",
              "      --hover-fill-color: #174EA6;\n",
              "      --disabled-fill-color: #AAA;\n",
              "      --disabled-bg-color: #DDD;\n",
              "  }\n",
              "\n",
              "  [theme=dark] .colab-df-quickchart {\n",
              "      --bg-color: #3B4455;\n",
              "      --fill-color: #D2E3FC;\n",
              "      --hover-bg-color: #434B5C;\n",
              "      --hover-fill-color: #FFFFFF;\n",
              "      --disabled-bg-color: #3B4455;\n",
              "      --disabled-fill-color: #666;\n",
              "  }\n",
              "\n",
              "  .colab-df-quickchart {\n",
              "    background-color: var(--bg-color);\n",
              "    border: none;\n",
              "    border-radius: 50%;\n",
              "    cursor: pointer;\n",
              "    display: none;\n",
              "    fill: var(--fill-color);\n",
              "    height: 32px;\n",
              "    padding: 0;\n",
              "    width: 32px;\n",
              "  }\n",
              "\n",
              "  .colab-df-quickchart:hover {\n",
              "    background-color: var(--hover-bg-color);\n",
              "    box-shadow: 0 1px 2px rgba(60, 64, 67, 0.3), 0 1px 3px 1px rgba(60, 64, 67, 0.15);\n",
              "    fill: var(--button-hover-fill-color);\n",
              "  }\n",
              "\n",
              "  .colab-df-quickchart-complete:disabled,\n",
              "  .colab-df-quickchart-complete:disabled:hover {\n",
              "    background-color: var(--disabled-bg-color);\n",
              "    fill: var(--disabled-fill-color);\n",
              "    box-shadow: none;\n",
              "  }\n",
              "\n",
              "  .colab-df-spinner {\n",
              "    border: 2px solid var(--fill-color);\n",
              "    border-color: transparent;\n",
              "    border-bottom-color: var(--fill-color);\n",
              "    animation:\n",
              "      spin 1s steps(1) infinite;\n",
              "  }\n",
              "\n",
              "  @keyframes spin {\n",
              "    0% {\n",
              "      border-color: transparent;\n",
              "      border-bottom-color: var(--fill-color);\n",
              "      border-left-color: var(--fill-color);\n",
              "    }\n",
              "    20% {\n",
              "      border-color: transparent;\n",
              "      border-left-color: var(--fill-color);\n",
              "      border-top-color: var(--fill-color);\n",
              "    }\n",
              "    30% {\n",
              "      border-color: transparent;\n",
              "      border-left-color: var(--fill-color);\n",
              "      border-top-color: var(--fill-color);\n",
              "      border-right-color: var(--fill-color);\n",
              "    }\n",
              "    40% {\n",
              "      border-color: transparent;\n",
              "      border-right-color: var(--fill-color);\n",
              "      border-top-color: var(--fill-color);\n",
              "    }\n",
              "    60% {\n",
              "      border-color: transparent;\n",
              "      border-right-color: var(--fill-color);\n",
              "    }\n",
              "    80% {\n",
              "      border-color: transparent;\n",
              "      border-right-color: var(--fill-color);\n",
              "      border-bottom-color: var(--fill-color);\n",
              "    }\n",
              "    90% {\n",
              "      border-color: transparent;\n",
              "      border-bottom-color: var(--fill-color);\n",
              "    }\n",
              "  }\n",
              "</style>\n",
              "\n",
              "  <script>\n",
              "    async function quickchart(key) {\n",
              "      const quickchartButtonEl =\n",
              "        document.querySelector('#' + key + ' button');\n",
              "      quickchartButtonEl.disabled = true;  // To prevent multiple clicks.\n",
              "      quickchartButtonEl.classList.add('colab-df-spinner');\n",
              "      try {\n",
              "        const charts = await google.colab.kernel.invokeFunction(\n",
              "            'suggestCharts', [key], {});\n",
              "      } catch (error) {\n",
              "        console.error('Error during call to suggestCharts:', error);\n",
              "      }\n",
              "      quickchartButtonEl.classList.remove('colab-df-spinner');\n",
              "      quickchartButtonEl.classList.add('colab-df-quickchart-complete');\n",
              "    }\n",
              "    (() => {\n",
              "      let quickchartButtonEl =\n",
              "        document.querySelector('#df-c8c9b0a7-73a1-445c-ad5d-f1b7edb46114 button');\n",
              "      quickchartButtonEl.style.display =\n",
              "        google.colab.kernel.accessAllowed ? 'block' : 'none';\n",
              "    })();\n",
              "  </script>\n",
              "</div>\n",
              "\n",
              "    </div>\n",
              "  </div>\n"
            ],
            "application/vnd.google.colaboratory.intrinsic+json": {
              "type": "dataframe",
              "variable_name": "df_org"
            }
          },
          "metadata": {},
          "execution_count": 9
        }
      ]
    },
    {
      "cell_type": "markdown",
      "source": [
        "## Data Cleaning"
      ],
      "metadata": {
        "id": "4n-DXCSZdRkw"
      }
    },
    {
      "cell_type": "markdown",
      "source": [
        "Updating Avg Monthly Long Distance Charges and Multiple Lines columns based on Phone Service"
      ],
      "metadata": {
        "id": "T67tVfZKf-eJ"
      }
    },
    {
      "cell_type": "code",
      "source": [
        "for index in df_org.index:\n",
        "  if df_org.loc[index, \"Phone Service\"] == \"No\":\n",
        "    df_org.loc[index, \"Avg Monthly Long Distance Charges\"] = 0\n",
        "    df_org.loc[index, \"Multiple Lines\"] = \"No\""
      ],
      "metadata": {
        "id": "QrEKe_6ReQDD"
      },
      "execution_count": 10,
      "outputs": []
    },
    {
      "cell_type": "markdown",
      "source": [
        "Updating the below columns based on the Internet Service"
      ],
      "metadata": {
        "id": "IPO68GXRePX_"
      }
    },
    {
      "cell_type": "code",
      "source": [
        "for index in df_org.index:\n",
        "  if df_org.loc[index, \"Internet Service\"] == \"No\":\n",
        "    df_org.loc[index, \"Internet Type\"] = \"No Internet\"\n",
        "    df_org.loc[index, \"Avg Monthly GB Download\"] = 0\n",
        "    df_org.loc[index, \"Online Security\"] = \"No\"\n",
        "    df_org.loc[index, \"Online Backup\"] = \"No\"\n",
        "    df_org.loc[index, \"Device Protection Plan\"] = \"No\"\n",
        "    df_org.loc[index, \"Premium Tech Support\"] = \"No\"\n",
        "    df_org.loc[index, \"Streaming Music\"] = \"No\"\n",
        "    df_org.loc[index, \"Streaming Movies\"] = \"No\"\n",
        "    df_org.loc[index, \"Streaming TV\"] = \"No\"\n",
        "    df_org.loc[index, \"Unlimited Data\"] = \"No\""
      ],
      "metadata": {
        "id": "htAqDX2QeDWC"
      },
      "execution_count": 11,
      "outputs": []
    },
    {
      "cell_type": "code",
      "source": [
        "df_org[\"Offer\"] = df_org[\"Offer\"].fillna(\"None\")"
      ],
      "metadata": {
        "id": "Uvod9Jj5iMUS"
      },
      "execution_count": 12,
      "outputs": []
    },
    {
      "cell_type": "code",
      "source": [
        "df_org.isna().sum()"
      ],
      "metadata": {
        "colab": {
          "base_uri": "https://localhost:8080/",
          "height": 1000
        },
        "id": "JzJcNw1Zf1Z3",
        "outputId": "87e287db-1950-401c-b339-4240993ee0b5"
      },
      "execution_count": 13,
      "outputs": [
        {
          "output_type": "execute_result",
          "data": {
            "text/plain": [
              "Customer ID                             0\n",
              "Gender                                  0\n",
              "Age                                     0\n",
              "Married                                 0\n",
              "Number of Dependents                    0\n",
              "City                                    0\n",
              "Zip Code                                0\n",
              "Latitude                                0\n",
              "Longitude                               0\n",
              "Number of Referrals                     0\n",
              "Tenure in Months                        0\n",
              "Offer                                   0\n",
              "Phone Service                           0\n",
              "Avg Monthly Long Distance Charges       0\n",
              "Multiple Lines                          0\n",
              "Internet Service                        0\n",
              "Internet Type                           0\n",
              "Avg Monthly GB Download                 0\n",
              "Online Security                         0\n",
              "Online Backup                           0\n",
              "Device Protection Plan                  0\n",
              "Premium Tech Support                    0\n",
              "Streaming TV                            0\n",
              "Streaming Movies                        0\n",
              "Streaming Music                         0\n",
              "Unlimited Data                          0\n",
              "Contract                                0\n",
              "Paperless Billing                       0\n",
              "Payment Method                          0\n",
              "Monthly Charge                          0\n",
              "Total Charges                           0\n",
              "Total Refunds                           0\n",
              "Total Extra Data Charges                0\n",
              "Total Long Distance Charges             0\n",
              "Total Revenue                           0\n",
              "Customer Status                         0\n",
              "Churn Category                       5174\n",
              "Churn Reason                         5174\n",
              "dtype: int64"
            ],
            "text/html": [
              "<div>\n",
              "<style scoped>\n",
              "    .dataframe tbody tr th:only-of-type {\n",
              "        vertical-align: middle;\n",
              "    }\n",
              "\n",
              "    .dataframe tbody tr th {\n",
              "        vertical-align: top;\n",
              "    }\n",
              "\n",
              "    .dataframe thead th {\n",
              "        text-align: right;\n",
              "    }\n",
              "</style>\n",
              "<table border=\"1\" class=\"dataframe\">\n",
              "  <thead>\n",
              "    <tr style=\"text-align: right;\">\n",
              "      <th></th>\n",
              "      <th>0</th>\n",
              "    </tr>\n",
              "  </thead>\n",
              "  <tbody>\n",
              "    <tr>\n",
              "      <th>Customer ID</th>\n",
              "      <td>0</td>\n",
              "    </tr>\n",
              "    <tr>\n",
              "      <th>Gender</th>\n",
              "      <td>0</td>\n",
              "    </tr>\n",
              "    <tr>\n",
              "      <th>Age</th>\n",
              "      <td>0</td>\n",
              "    </tr>\n",
              "    <tr>\n",
              "      <th>Married</th>\n",
              "      <td>0</td>\n",
              "    </tr>\n",
              "    <tr>\n",
              "      <th>Number of Dependents</th>\n",
              "      <td>0</td>\n",
              "    </tr>\n",
              "    <tr>\n",
              "      <th>City</th>\n",
              "      <td>0</td>\n",
              "    </tr>\n",
              "    <tr>\n",
              "      <th>Zip Code</th>\n",
              "      <td>0</td>\n",
              "    </tr>\n",
              "    <tr>\n",
              "      <th>Latitude</th>\n",
              "      <td>0</td>\n",
              "    </tr>\n",
              "    <tr>\n",
              "      <th>Longitude</th>\n",
              "      <td>0</td>\n",
              "    </tr>\n",
              "    <tr>\n",
              "      <th>Number of Referrals</th>\n",
              "      <td>0</td>\n",
              "    </tr>\n",
              "    <tr>\n",
              "      <th>Tenure in Months</th>\n",
              "      <td>0</td>\n",
              "    </tr>\n",
              "    <tr>\n",
              "      <th>Offer</th>\n",
              "      <td>0</td>\n",
              "    </tr>\n",
              "    <tr>\n",
              "      <th>Phone Service</th>\n",
              "      <td>0</td>\n",
              "    </tr>\n",
              "    <tr>\n",
              "      <th>Avg Monthly Long Distance Charges</th>\n",
              "      <td>0</td>\n",
              "    </tr>\n",
              "    <tr>\n",
              "      <th>Multiple Lines</th>\n",
              "      <td>0</td>\n",
              "    </tr>\n",
              "    <tr>\n",
              "      <th>Internet Service</th>\n",
              "      <td>0</td>\n",
              "    </tr>\n",
              "    <tr>\n",
              "      <th>Internet Type</th>\n",
              "      <td>0</td>\n",
              "    </tr>\n",
              "    <tr>\n",
              "      <th>Avg Monthly GB Download</th>\n",
              "      <td>0</td>\n",
              "    </tr>\n",
              "    <tr>\n",
              "      <th>Online Security</th>\n",
              "      <td>0</td>\n",
              "    </tr>\n",
              "    <tr>\n",
              "      <th>Online Backup</th>\n",
              "      <td>0</td>\n",
              "    </tr>\n",
              "    <tr>\n",
              "      <th>Device Protection Plan</th>\n",
              "      <td>0</td>\n",
              "    </tr>\n",
              "    <tr>\n",
              "      <th>Premium Tech Support</th>\n",
              "      <td>0</td>\n",
              "    </tr>\n",
              "    <tr>\n",
              "      <th>Streaming TV</th>\n",
              "      <td>0</td>\n",
              "    </tr>\n",
              "    <tr>\n",
              "      <th>Streaming Movies</th>\n",
              "      <td>0</td>\n",
              "    </tr>\n",
              "    <tr>\n",
              "      <th>Streaming Music</th>\n",
              "      <td>0</td>\n",
              "    </tr>\n",
              "    <tr>\n",
              "      <th>Unlimited Data</th>\n",
              "      <td>0</td>\n",
              "    </tr>\n",
              "    <tr>\n",
              "      <th>Contract</th>\n",
              "      <td>0</td>\n",
              "    </tr>\n",
              "    <tr>\n",
              "      <th>Paperless Billing</th>\n",
              "      <td>0</td>\n",
              "    </tr>\n",
              "    <tr>\n",
              "      <th>Payment Method</th>\n",
              "      <td>0</td>\n",
              "    </tr>\n",
              "    <tr>\n",
              "      <th>Monthly Charge</th>\n",
              "      <td>0</td>\n",
              "    </tr>\n",
              "    <tr>\n",
              "      <th>Total Charges</th>\n",
              "      <td>0</td>\n",
              "    </tr>\n",
              "    <tr>\n",
              "      <th>Total Refunds</th>\n",
              "      <td>0</td>\n",
              "    </tr>\n",
              "    <tr>\n",
              "      <th>Total Extra Data Charges</th>\n",
              "      <td>0</td>\n",
              "    </tr>\n",
              "    <tr>\n",
              "      <th>Total Long Distance Charges</th>\n",
              "      <td>0</td>\n",
              "    </tr>\n",
              "    <tr>\n",
              "      <th>Total Revenue</th>\n",
              "      <td>0</td>\n",
              "    </tr>\n",
              "    <tr>\n",
              "      <th>Customer Status</th>\n",
              "      <td>0</td>\n",
              "    </tr>\n",
              "    <tr>\n",
              "      <th>Churn Category</th>\n",
              "      <td>5174</td>\n",
              "    </tr>\n",
              "    <tr>\n",
              "      <th>Churn Reason</th>\n",
              "      <td>5174</td>\n",
              "    </tr>\n",
              "  </tbody>\n",
              "</table>\n",
              "</div><br><label><b>dtype:</b> int64</label>"
            ]
          },
          "metadata": {},
          "execution_count": 13
        }
      ]
    },
    {
      "cell_type": "markdown",
      "source": [
        "Creating a new feature [Avg Monthly Revenue]"
      ],
      "metadata": {
        "id": "laRcGyryva4G"
      }
    },
    {
      "cell_type": "code",
      "source": [
        "df_org[\"Avg Monthly Revenue\"]= (df_org[\"Total Revenue\"]/ df_org[\"Tenure in Months\"]).round(2)"
      ],
      "metadata": {
        "id": "RivEZKgMiBfW"
      },
      "execution_count": 14,
      "outputs": []
    },
    {
      "cell_type": "code",
      "source": [
        "df_org[\"Avg Monthly Revenue\"]"
      ],
      "metadata": {
        "colab": {
          "base_uri": "https://localhost:8080/",
          "height": 458
        },
        "id": "NgERi69Zv95K",
        "outputId": "fe2c0297-b9a7-4ea7-a016-d9d643db65bb"
      },
      "execution_count": 15,
      "outputs": [
        {
          "output_type": "execute_result",
          "data": {
            "text/plain": [
              "0       108.31\n",
              "1        67.81\n",
              "2       103.86\n",
              "3       123.04\n",
              "4        96.51\n",
              "         ...  \n",
              "7038    103.83\n",
              "7039    101.37\n",
              "7040     65.00\n",
              "7041     71.19\n",
              "7042     58.85\n",
              "Name: Avg Monthly Revenue, Length: 7043, dtype: float64"
            ],
            "text/html": [
              "<div>\n",
              "<style scoped>\n",
              "    .dataframe tbody tr th:only-of-type {\n",
              "        vertical-align: middle;\n",
              "    }\n",
              "\n",
              "    .dataframe tbody tr th {\n",
              "        vertical-align: top;\n",
              "    }\n",
              "\n",
              "    .dataframe thead th {\n",
              "        text-align: right;\n",
              "    }\n",
              "</style>\n",
              "<table border=\"1\" class=\"dataframe\">\n",
              "  <thead>\n",
              "    <tr style=\"text-align: right;\">\n",
              "      <th></th>\n",
              "      <th>Avg Monthly Revenue</th>\n",
              "    </tr>\n",
              "  </thead>\n",
              "  <tbody>\n",
              "    <tr>\n",
              "      <th>0</th>\n",
              "      <td>108.31</td>\n",
              "    </tr>\n",
              "    <tr>\n",
              "      <th>1</th>\n",
              "      <td>67.81</td>\n",
              "    </tr>\n",
              "    <tr>\n",
              "      <th>2</th>\n",
              "      <td>103.86</td>\n",
              "    </tr>\n",
              "    <tr>\n",
              "      <th>3</th>\n",
              "      <td>123.04</td>\n",
              "    </tr>\n",
              "    <tr>\n",
              "      <th>4</th>\n",
              "      <td>96.51</td>\n",
              "    </tr>\n",
              "    <tr>\n",
              "      <th>...</th>\n",
              "      <td>...</td>\n",
              "    </tr>\n",
              "    <tr>\n",
              "      <th>7038</th>\n",
              "      <td>103.83</td>\n",
              "    </tr>\n",
              "    <tr>\n",
              "      <th>7039</th>\n",
              "      <td>101.37</td>\n",
              "    </tr>\n",
              "    <tr>\n",
              "      <th>7040</th>\n",
              "      <td>65.00</td>\n",
              "    </tr>\n",
              "    <tr>\n",
              "      <th>7041</th>\n",
              "      <td>71.19</td>\n",
              "    </tr>\n",
              "    <tr>\n",
              "      <th>7042</th>\n",
              "      <td>58.85</td>\n",
              "    </tr>\n",
              "  </tbody>\n",
              "</table>\n",
              "<p>7043 rows × 1 columns</p>\n",
              "</div><br><label><b>dtype:</b> float64</label>"
            ]
          },
          "metadata": {},
          "execution_count": 15
        }
      ]
    },
    {
      "cell_type": "code",
      "source": [
        "sns.histplot(df_org[\"Avg Monthly Revenue\"])"
      ],
      "metadata": {
        "colab": {
          "base_uri": "https://localhost:8080/",
          "height": 466
        },
        "id": "dBhZkD-hwOLF",
        "outputId": "0edca366-8a86-4dd4-934f-cafdbbcfe099"
      },
      "execution_count": 16,
      "outputs": [
        {
          "output_type": "execute_result",
          "data": {
            "text/plain": [
              "<Axes: xlabel='Avg Monthly Revenue', ylabel='Count'>"
            ]
          },
          "metadata": {},
          "execution_count": 16
        },
        {
          "output_type": "display_data",
          "data": {
            "text/plain": [
              "<Figure size 640x480 with 1 Axes>"
            ],
            "image/png": "[encoded data removed]"
          },
          "metadata": {}
        }
      ]
    },
    {
      "cell_type": "markdown",
      "source": [
        "Removing joined customers"
      ],
      "metadata": {
        "id": "AuDDlh2rFM2Z"
      }
    },
    {
      "cell_type": "code",
      "source": [
        "df_org= df_org.loc[df_org[\"Customer Status\"] != \"Joined\"]"
      ],
      "metadata": {
        "id": "nlbXS_yIzdbN"
      },
      "execution_count": 17,
      "outputs": []
    },
    {
      "cell_type": "code",
      "source": [
        "# Checking for Duplicates\n",
        "duplicate_count = df_org.duplicated().sum()\n",
        "print(f\"Number of duplicate rows: {duplicate_count}\")\n"
      ],
      "metadata": {
        "colab": {
          "base_uri": "https://localhost:8080/"
        },
        "id": "kTWzw6HrEPPx",
        "outputId": "50b8f901-a863-47ab-a9fe-d0cd756b4d34"
      },
      "execution_count": 8,
      "outputs": [
        {
          "output_type": "stream",
          "name": "stdout",
          "text": [
            "Number of duplicate rows: 0\n"
          ]
        }
      ]
    },
    {
      "cell_type": "markdown",
      "source": [
        "### Handeling Outliers"
      ],
      "metadata": {
        "id": "RDhTzGBEoQ4i"
      }
    },
    {
      "cell_type": "code",
      "source": [
        "# Columns to check\n",
        "columns_to_check = [\"Number of Referrals\", \"Tenure in Months\", \"Avg Monthly Long Distance Charges\",\n",
        "                     \"Avg Monthly GB Download\", \"Monthly Charge\", \"Avg Monthly Revenue\"]\n",
        "\n",
        "# Compute Z-scores\n",
        "z_scores = np.abs(zscore(df_org[columns_to_check], nan_policy='omit'))\n",
        "\n",
        "threshold = 3\n",
        "\n",
        "# Identify outliers (Z-score > threshold)\n",
        "outlier_mask = (z_scores > threshold)\n",
        "\n",
        "# Count outliers per column\n",
        "outlier_counts = outlier_mask.sum(axis=0)\n",
        "\n",
        "# Print result\n",
        "for col, count in zip(columns_to_check, outlier_counts):\n",
        "    print(f\"{col}: {count} outliers\")\n"
      ],
      "metadata": {
        "colab": {
          "base_uri": "https://localhost:8080/"
        },
        "id": "QW34V0deoa0n",
        "outputId": "d8c1fd58-3b30-4fb2-90ba-0375cb028bce"
      },
      "execution_count": null,
      "outputs": [
        {
          "output_type": "stream",
          "name": "stdout",
          "text": [
            "Number of Referrals: 0 outliers\n",
            "Tenure in Months: 0 outliers\n",
            "Avg Monthly Long Distance Charges: 0 outliers\n",
            "Avg Monthly GB Download: 46 outliers\n",
            "Monthly Charge: 0 outliers\n",
            "Avg Monthly Revenue: 0 outliers\n"
          ]
        }
      ]
    },
    {
      "cell_type": "code",
      "source": [
        "sns.histplot(df_org[\"Avg Monthly GB Download\"])"
      ],
      "metadata": {
        "colab": {
          "base_uri": "https://localhost:8080/",
          "height": 466
        },
        "id": "IJ9q__xxtfdR",
        "outputId": "326b6c6c-381f-4833-87b8-81fd5cede9e2"
      },
      "execution_count": null,
      "outputs": [
        {
          "output_type": "execute_result",
          "data": {
            "text/plain": [
              "<Axes: xlabel='Avg Monthly GB Download', ylabel='Count'>"
            ]
          },
          "metadata": {},
          "execution_count": 54
        },
        {
          "output_type": "display_data",
          "data": {
            "text/plain": [
              "<Figure size 640x480 with 1 Axes>"
            ],
            "image/png": "[encoded data removed]"
          },
          "metadata": {}
        }
      ]
    },
    {
      "cell_type": "markdown",
      "source": [
        "Saving the cleaned dataframe"
      ],
      "metadata": {
        "id": "ohLgUrWm0g7G"
      }
    },
    {
      "cell_type": "code",
      "source": [
        "df_org.to_csv(\"cleaned_data.csv\", index=False)"
      ],
      "metadata": {
        "id": "SGFWFiSXwWE9"
      },
      "execution_count": null,
      "outputs": []
    },
    {
      "cell_type": "code",
      "source": [
        "df_cleaned = pd.read_csv(\"cleaned_data.csv\")"
      ],
      "metadata": {
        "id": "Lcfng0WwylaQ"
      },
      "execution_count": null,
      "outputs": []
    },
    {
      "cell_type": "markdown",
      "source": [
        "## Handling Unbalanced Data\n"
      ],
      "metadata": {
        "id": "AivTwD1n5D-P"
      }
    },
    {
      "cell_type": "code",
      "source": [
        "df_cleaned[\"Customer Status\"].value_counts(normalize= True)"
      ],
      "metadata": {
        "colab": {
          "base_uri": "https://localhost:8080/",
          "height": 178
        },
        "id": "7KqIKZy_2bAZ",
        "outputId": "d3c917d8-cfa6-4678-84fb-8524ee8cdc74"
      },
      "execution_count": null,
      "outputs": [
        {
          "output_type": "execute_result",
          "data": {
            "text/plain": [
              "Customer Status\n",
              "Stayed     0.716345\n",
              "Churned    0.283655\n",
              "Name: proportion, dtype: float64"
            ],
            "text/html": [
              "<div>\n",
              "<style scoped>\n",
              "    .dataframe tbody tr th:only-of-type {\n",
              "        vertical-align: middle;\n",
              "    }\n",
              "\n",
              "    .dataframe tbody tr th {\n",
              "        vertical-align: top;\n",
              "    }\n",
              "\n",
              "    .dataframe thead th {\n",
              "        text-align: right;\n",
              "    }\n",
              "</style>\n",
              "<table border=\"1\" class=\"dataframe\">\n",
              "  <thead>\n",
              "    <tr style=\"text-align: right;\">\n",
              "      <th></th>\n",
              "      <th>proportion</th>\n",
              "    </tr>\n",
              "    <tr>\n",
              "      <th>Customer Status</th>\n",
              "      <th></th>\n",
              "    </tr>\n",
              "  </thead>\n",
              "  <tbody>\n",
              "    <tr>\n",
              "      <th>Stayed</th>\n",
              "      <td>0.716345</td>\n",
              "    </tr>\n",
              "    <tr>\n",
              "      <th>Churned</th>\n",
              "      <td>0.283655</td>\n",
              "    </tr>\n",
              "  </tbody>\n",
              "</table>\n",
              "</div><br><label><b>dtype:</b> float64</label>"
            ]
          },
          "metadata": {},
          "execution_count": 32
        }
      ]
    },
    {
      "cell_type": "markdown",
      "source": [
        "![image.png](data:image/png;base64,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)"
      ],
      "metadata": {
        "id": "WI6ZK08K5xHd"
      }
    },
    {
      "cell_type": "markdown",
      "source": [
        "[Google: Handling Imbalanced Datasets](https://developers.google.com/machine-learning/crash-course/overfitting/imbalanced-datasets)"
      ],
      "metadata": {
        "id": "27GPuBHc79kq"
      }
    },
    {
      "cell_type": "code",
      "source": [
        "df_cleaned[\"Customer Status\"].value_counts()"
      ],
      "metadata": {
        "colab": {
          "base_uri": "https://localhost:8080/",
          "height": 178
        },
        "id": "UJO3NG7t5lC-",
        "outputId": "5aeda2d8-6c3c-41ed-ed73-ff424782f497"
      },
      "execution_count": null,
      "outputs": [
        {
          "output_type": "execute_result",
          "data": {
            "text/plain": [
              "Customer Status\n",
              "Stayed     4720\n",
              "Churned    1869\n",
              "Name: count, dtype: int64"
            ],
            "text/html": [
              "<div>\n",
              "<style scoped>\n",
              "    .dataframe tbody tr th:only-of-type {\n",
              "        vertical-align: middle;\n",
              "    }\n",
              "\n",
              "    .dataframe tbody tr th {\n",
              "        vertical-align: top;\n",
              "    }\n",
              "\n",
              "    .dataframe thead th {\n",
              "        text-align: right;\n",
              "    }\n",
              "</style>\n",
              "<table border=\"1\" class=\"dataframe\">\n",
              "  <thead>\n",
              "    <tr style=\"text-align: right;\">\n",
              "      <th></th>\n",
              "      <th>count</th>\n",
              "    </tr>\n",
              "    <tr>\n",
              "      <th>Customer Status</th>\n",
              "      <th></th>\n",
              "    </tr>\n",
              "  </thead>\n",
              "  <tbody>\n",
              "    <tr>\n",
              "      <th>Stayed</th>\n",
              "      <td>4720</td>\n",
              "    </tr>\n",
              "    <tr>\n",
              "      <th>Churned</th>\n",
              "      <td>1869</td>\n",
              "    </tr>\n",
              "  </tbody>\n",
              "</table>\n",
              "</div><br><label><b>dtype:</b> int64</label>"
            ]
          },
          "metadata": {},
          "execution_count": 34
        }
      ]
    },
    {
      "cell_type": "markdown",
      "source": [
        "It is moderately imbalanced. Most machine learning models will still be biased toward the majority class unless you address it.\n",
        "\n",
        "Need to do this especially if:\n",
        "\n",
        "The minority class is more important (e.g., fraud detection, churn prediction, disease detection).\n",
        "\n",
        "You care about recall or precision of the minority class, not just accuracy.\n",
        "\n",
        "You notice poor performance on the minority class during validation."
      ],
      "metadata": {
        "id": "N3xLyQsO-cwv"
      }
    },
    {
      "cell_type": "markdown",
      "source": [
        "1. Downsampling and Upweighting"
      ],
      "metadata": {
        "id": "TjEmi-T3-GNW"
      }
    },
    {
      "cell_type": "code",
      "source": [
        "# Separate majority and minority classes\n",
        "df_majority = df_cleaned[df_cleaned['Customer Status'] == \"Stayed\"]\n",
        "df_minority = df_cleaned[df_cleaned['Customer Status'] == \"Churned\"]\n",
        "\n",
        "# Downsample majority class\n",
        "df_majority_downsampled = resample(df_majority,\n",
        "                                   replace=False,\n",
        "                                   n_samples=len(df_minority),\n",
        "                                   random_state=42)\n",
        "\n",
        "# Combine minority class with downsampled majority class\n",
        "df_balanced = pd.concat([df_majority_downsampled, df_minority])\n",
        "\n",
        "# Shuffle the dataset\n",
        "df_balanced = df_balanced.sample(frac=1, random_state=42).reset_index(drop=True)\n",
        "\n"
      ],
      "metadata": {
        "id": "A34kyR615JWy"
      },
      "execution_count": null,
      "outputs": []
    },
    {
      "cell_type": "code",
      "source": [
        "df_balanced[\"Customer Status\"].value_counts()"
      ],
      "metadata": {
        "colab": {
          "base_uri": "https://localhost:8080/",
          "height": 178
        },
        "id": "kWx6upm4Ee66",
        "outputId": "2fe15c4a-b9fc-4833-ac33-67a136fb6b1c"
      },
      "execution_count": null,
      "outputs": [
        {
          "output_type": "execute_result",
          "data": {
            "text/plain": [
              "Customer Status\n",
              "Stayed     1869\n",
              "Churned    1869\n",
              "Name: count, dtype: int64"
            ],
            "text/html": [
              "<div>\n",
              "<style scoped>\n",
              "    .dataframe tbody tr th:only-of-type {\n",
              "        vertical-align: middle;\n",
              "    }\n",
              "\n",
              "    .dataframe tbody tr th {\n",
              "        vertical-align: top;\n",
              "    }\n",
              "\n",
              "    .dataframe thead th {\n",
              "        text-align: right;\n",
              "    }\n",
              "</style>\n",
              "<table border=\"1\" class=\"dataframe\">\n",
              "  <thead>\n",
              "    <tr style=\"text-align: right;\">\n",
              "      <th></th>\n",
              "      <th>count</th>\n",
              "    </tr>\n",
              "    <tr>\n",
              "      <th>Customer Status</th>\n",
              "      <th></th>\n",
              "    </tr>\n",
              "  </thead>\n",
              "  <tbody>\n",
              "    <tr>\n",
              "      <th>Stayed</th>\n",
              "      <td>1869</td>\n",
              "    </tr>\n",
              "    <tr>\n",
              "      <th>Churned</th>\n",
              "      <td>1869</td>\n",
              "    </tr>\n",
              "  </tbody>\n",
              "</table>\n",
              "</div><br><label><b>dtype:</b> int64</label>"
            ]
          },
          "metadata": {},
          "execution_count": 37
        }
      ]
    },
    {
      "cell_type": "markdown",
      "source": [
        "Upweighting needs to be done when defining the models\n"
      ],
      "metadata": {
        "id": "LmIYDTJKk2jZ"
      }
    },
    {
      "cell_type": "code",
      "source": [
        "df_balanced.columns"
      ],
      "metadata": {
        "colab": {
          "base_uri": "https://localhost:8080/"
        },
        "id": "pqlFQQi5sSS9",
        "outputId": "80edb93d-fe18-435a-9e66-4f90e74d81e4"
      },
      "execution_count": null,
      "outputs": [
        {
          "output_type": "execute_result",
          "data": {
            "text/plain": [
              "Index(['Customer ID', 'Gender', 'Age', 'Married', 'Number of Dependents',\n",
              "       'City', 'Zip Code', 'Latitude', 'Longitude', 'Number of Referrals',\n",
              "       'Tenure in Months', 'Offer', 'Phone Service',\n",
              "       'Avg Monthly Long Distance Charges', 'Multiple Lines',\n",
              "       'Internet Service', 'Internet Type', 'Avg Monthly GB Download',\n",
              "       'Online Security', 'Online Backup', 'Device Protection Plan',\n",
              "       'Premium Tech Support', 'Streaming TV', 'Streaming Movies',\n",
              "       'Streaming Music', 'Unlimited Data', 'Contract', 'Paperless Billing',\n",
              "       'Payment Method', 'Monthly Charge', 'Total Charges', 'Total Refunds',\n",
              "       'Total Extra Data Charges', 'Total Long Distance Charges',\n",
              "       'Total Revenue', 'Customer Status', 'Churn Category', 'Churn Reason',\n",
              "       'Avg Monthly Revenue'],\n",
              "      dtype='object')"
            ]
          },
          "metadata": {},
          "execution_count": 46
        }
      ]
    },
    {
      "cell_type": "markdown",
      "source": [
        "**Try SMOTE**"
      ],
      "metadata": {
        "id": "-4PZw5uAQ1e0"
      }
    },
    {
      "cell_type": "code",
      "source": [],
      "metadata": {
        "id": "9-CG3Bh6QEuS"
      },
      "execution_count": null,
      "outputs": []
    },
    {
      "cell_type": "markdown",
      "source": [
        "### Label Encoding"
      ],
      "metadata": {
        "id": "e9rS3pwEQkQ5"
      }
    },
    {
      "cell_type": "code",
      "source": [
        "df_cleaned.columns"
      ],
      "metadata": {
        "colab": {
          "base_uri": "https://localhost:8080/"
        },
        "id": "ZKhixzjgQ3PQ",
        "outputId": "28fbb035-0e2d-4b8e-a58a-d36f276d3fcd"
      },
      "execution_count": null,
      "outputs": [
        {
          "output_type": "execute_result",
          "data": {
            "text/plain": [
              "Index(['Customer ID', 'Gender', 'Age', 'Married', 'Number of Dependents',\n",
              "       'City', 'Zip Code', 'Latitude', 'Longitude', 'Number of Referrals',\n",
              "       'Tenure in Months', 'Offer', 'Phone Service',\n",
              "       'Avg Monthly Long Distance Charges', 'Multiple Lines',\n",
              "       'Internet Service', 'Internet Type', 'Avg Monthly GB Download',\n",
              "       'Online Security', 'Online Backup', 'Device Protection Plan',\n",
              "       'Premium Tech Support', 'Streaming TV', 'Streaming Movies',\n",
              "       'Streaming Music', 'Unlimited Data', 'Contract', 'Paperless Billing',\n",
              "       'Payment Method', 'Monthly Charge', 'Total Charges', 'Total Refunds',\n",
              "       'Total Extra Data Charges', 'Total Long Distance Charges',\n",
              "       'Total Revenue', 'Customer Status', 'Churn Category', 'Churn Reason',\n",
              "       'Avg Monthly Revenue'],\n",
              "      dtype='object')"
            ]
          },
          "metadata": {},
          "execution_count": 41
        }
      ]
    },
    {
      "cell_type": "code",
      "source": [
        "one_hot_encoding_vars = ['Gender', 'Married', 'Number of Dependents', \"Offer\", \"Phone Service\",\"Multiple Lines\",\n",
        "                         \"Internet Service\",\"Internet Type\", 'Online Security', 'Online Backup', 'Device Protection Plan',\n",
        "                          'Premium Tech Support', 'Streaming TV', 'Streaming Movies','Streaming Music', 'Unlimited Data',\n",
        "                         'Contract', 'Paperless Billing' ,'Payment Method']\n",
        "df_ready = pd.get_dummies(df_balanced, columns= one_hot_encoding_vars, drop_first= True, dtype= int)"
      ],
      "metadata": {
        "id": "ZcHiwIWFF_nA"
      },
      "execution_count": null,
      "outputs": []
    },
    {
      "cell_type": "code",
      "source": [
        "df_ready.head()"
      ],
      "metadata": {
        "colab": {
          "base_uri": "https://localhost:8080/",
          "height": 411
        },
        "id": "WFluT1QsSfN8",
        "outputId": "2795e9c8-454d-4a18-cb34-cb34bca8d6a0"
      },
      "execution_count": null,
      "outputs": [
        {
          "output_type": "execute_result",
          "data": {
            "text/plain": [
              "  Customer ID  Age            City  Zip Code   Latitude   Longitude  \\\n",
              "0  5035-BVCXS   20        Loyalton     96118  39.637471 -120.226338   \n",
              "1  7519-JTWQH   30      Calipatria     92233  33.143826 -115.497485   \n",
              "2  5084-OOVCJ   25      Canyon Dam     95923  40.171312 -121.120605   \n",
              "3  6242-MBHPK   67  Hathaway Pines     95233  38.184914 -120.364085   \n",
              "4  8659-HDIYE   68     Los Angeles     90067  34.057496 -118.413959   \n",
              "\n",
              "   Number of Referrals  Tenure in Months  Avg Monthly Long Distance Charges  \\\n",
              "0                    0                11                              13.55   \n",
              "1                    0                69                              23.92   \n",
              "2                    1                17                              20.23   \n",
              "3                    1                23                              41.88   \n",
              "4                    0                64                              27.70   \n",
              "\n",
              "   Avg Monthly GB Download  ...  Premium Tech Support_Yes  Streaming TV_Yes  \\\n",
              "0                     27.0  ...                         0                 0   \n",
              "1                     42.0  ...                         1                 1   \n",
              "2                     69.0  ...                         1                 0   \n",
              "3                     12.0  ...                         0                 1   \n",
              "4                     21.0  ...                         1                 0   \n",
              "\n",
              "   Streaming Movies_Yes  Streaming Music_Yes  Unlimited Data_Yes  \\\n",
              "0                     0                    0                   1   \n",
              "1                     1                    1                   1   \n",
              "2                     0                    0                   1   \n",
              "3                     1                    1                   1   \n",
              "4                     1                    0                   1   \n",
              "\n",
              "   Contract_One Year Contract_Two Year Paperless Billing_Yes  \\\n",
              "0                  0                 0                     1   \n",
              "1                  0                 1                     1   \n",
              "2                  0                 0                     1   \n",
              "3                  1                 0                     1   \n",
              "4                  0                 1                     0   \n",
              "\n",
              "  Payment Method_Credit Card  Payment Method_Mailed Check  \n",
              "0                          1                            0  \n",
              "1                          0                            0  \n",
              "2                          1                            0  \n",
              "3                          0                            0  \n",
              "4                          1                            0  \n",
              "\n",
              "[5 rows x 53 columns]"
            ],
            "text/html": [
              "\n",
              "  <div id=\"df-fed2fd33-9c04-4cf0-98e1-a527dfc02c3c\" class=\"colab-df-container\">\n",
              "    <div>\n",
              "<style scoped>\n",
              "    .dataframe tbody tr th:only-of-type {\n",
              "        vertical-align: middle;\n",
              "    }\n",
              "\n",
              "    .dataframe tbody tr th {\n",
              "        vertical-align: top;\n",
              "    }\n",
              "\n",
              "    .dataframe thead th {\n",
              "        text-align: right;\n",
              "    }\n",
              "</style>\n",
              "<table border=\"1\" class=\"dataframe\">\n",
              "  <thead>\n",
              "    <tr style=\"text-align: right;\">\n",
              "      <th></th>\n",
              "      <th>Customer ID</th>\n",
              "      <th>Age</th>\n",
              "      <th>City</th>\n",
              "      <th>Zip Code</th>\n",
              "      <th>Latitude</th>\n",
              "      <th>Longitude</th>\n",
              "      <th>Number of Referrals</th>\n",
              "      <th>Tenure in Months</th>\n",
              "      <th>Avg Monthly Long Distance Charges</th>\n",
              "      <th>Avg Monthly GB Download</th>\n",
              "      <th>...</th>\n",
              "      <th>Premium Tech Support_Yes</th>\n",
              "      <th>Streaming TV_Yes</th>\n",
              "      <th>Streaming Movies_Yes</th>\n",
              "      <th>Streaming Music_Yes</th>\n",
              "      <th>Unlimited Data_Yes</th>\n",
              "      <th>Contract_One Year</th>\n",
              "      <th>Contract_Two Year</th>\n",
              "      <th>Paperless Billing_Yes</th>\n",
              "      <th>Payment Method_Credit Card</th>\n",
              "      <th>Payment Method_Mailed Check</th>\n",
              "    </tr>\n",
              "  </thead>\n",
              "  <tbody>\n",
              "    <tr>\n",
              "      <th>0</th>\n",
              "      <td>5035-BVCXS</td>\n",
              "      <td>20</td>\n",
              "      <td>Loyalton</td>\n",
              "      <td>96118</td>\n",
              "      <td>39.637471</td>\n",
              "      <td>-120.226338</td>\n",
              "      <td>0</td>\n",
              "      <td>11</td>\n",
              "      <td>13.55</td>\n",
              "      <td>27.0</td>\n",
              "      <td>...</td>\n",
              "      <td>0</td>\n",
              "      <td>0</td>\n",
              "      <td>0</td>\n",
              "      <td>0</td>\n",
              "      <td>1</td>\n",
              "      <td>0</td>\n",
              "      <td>0</td>\n",
              "      <td>1</td>\n",
              "      <td>1</td>\n",
              "      <td>0</td>\n",
              "    </tr>\n",
              "    <tr>\n",
              "      <th>1</th>\n",
              "      <td>7519-JTWQH</td>\n",
              "      <td>30</td>\n",
              "      <td>Calipatria</td>\n",
              "      <td>92233</td>\n",
              "      <td>33.143826</td>\n",
              "      <td>-115.497485</td>\n",
              "      <td>0</td>\n",
              "      <td>69</td>\n",
              "      <td>23.92</td>\n",
              "      <td>42.0</td>\n",
              "      <td>...</td>\n",
              "      <td>1</td>\n",
              "      <td>1</td>\n",
              "      <td>1</td>\n",
              "      <td>1</td>\n",
              "      <td>1</td>\n",
              "      <td>0</td>\n",
              "      <td>1</td>\n",
              "      <td>1</td>\n",
              "      <td>0</td>\n",
              "      <td>0</td>\n",
              "    </tr>\n",
              "    <tr>\n",
              "      <th>2</th>\n",
              "      <td>5084-OOVCJ</td>\n",
              "      <td>25</td>\n",
              "      <td>Canyon Dam</td>\n",
              "      <td>95923</td>\n",
              "      <td>40.171312</td>\n",
              "      <td>-121.120605</td>\n",
              "      <td>1</td>\n",
              "      <td>17</td>\n",
              "      <td>20.23</td>\n",
              "      <td>69.0</td>\n",
              "      <td>...</td>\n",
              "      <td>1</td>\n",
              "      <td>0</td>\n",
              "      <td>0</td>\n",
              "      <td>0</td>\n",
              "      <td>1</td>\n",
              "      <td>0</td>\n",
              "      <td>0</td>\n",
              "      <td>1</td>\n",
              "      <td>1</td>\n",
              "      <td>0</td>\n",
              "    </tr>\n",
              "    <tr>\n",
              "      <th>3</th>\n",
              "      <td>6242-MBHPK</td>\n",
              "      <td>67</td>\n",
              "      <td>Hathaway Pines</td>\n",
              "      <td>95233</td>\n",
              "      <td>38.184914</td>\n",
              "      <td>-120.364085</td>\n",
              "      <td>1</td>\n",
              "      <td>23</td>\n",
              "      <td>41.88</td>\n",
              "      <td>12.0</td>\n",
              "      <td>...</td>\n",
              "      <td>0</td>\n",
              "      <td>1</td>\n",
              "      <td>1</td>\n",
              "      <td>1</td>\n",
              "      <td>1</td>\n",
              "      <td>1</td>\n",
              "      <td>0</td>\n",
              "      <td>1</td>\n",
              "      <td>0</td>\n",
              "      <td>0</td>\n",
              "    </tr>\n",
              "    <tr>\n",
              "      <th>4</th>\n",
              "      <td>8659-HDIYE</td>\n",
              "      <td>68</td>\n",
              "      <td>Los Angeles</td>\n",
              "      <td>90067</td>\n",
              "      <td>34.057496</td>\n",
              "      <td>-118.413959</td>\n",
              "      <td>0</td>\n",
              "      <td>64</td>\n",
              "      <td>27.70</td>\n",
              "      <td>21.0</td>\n",
              "      <td>...</td>\n",
              "      <td>1</td>\n",
              "      <td>0</td>\n",
              "      <td>1</td>\n",
              "      <td>0</td>\n",
              "      <td>1</td>\n",
              "      <td>0</td>\n",
              "      <td>1</td>\n",
              "      <td>0</td>\n",
              "      <td>1</td>\n",
              "      <td>0</td>\n",
              "    </tr>\n",
              "  </tbody>\n",
              "</table>\n",
              "<p>5 rows × 53 columns</p>\n",
              "</div>\n",
              "    <div class=\"colab-df-buttons\">\n",
              "\n",
              "  <div class=\"colab-df-container\">\n",
              "    <button class=\"colab-df-convert\" onclick=\"convertToInteractive('df-fed2fd33-9c04-4cf0-98e1-a527dfc02c3c')\"\n",
              "            title=\"Convert this dataframe to an interactive table.\"\n",
              "            style=\"display:none;\">\n",
              "\n",
              "  <svg xmlns=\"http://www.w3.org/2000/svg\" height=\"24px\" viewBox=\"0 -960 960 960\">\n",
              "    <path d=\"M120-120v-720h720v720H120Zm60-500h600v-160H180v160Zm220 220h160v-160H400v160Zm0 220h160v-160H400v160ZM180-400h160v-160H180v160Zm440 0h160v-160H620v160ZM180-180h160v-160H180v160Zm440 0h160v-160H620v160Z\"/>\n",
              "  </svg>\n",
              "    </button>\n",
              "\n",
              "  <style>\n",
              "    .colab-df-container {\n",
              "      display:flex;\n",
              "      gap: 12px;\n",
              "    }\n",
              "\n",
              "    .colab-df-convert {\n",
              "      background-color: #E8F0FE;\n",
              "      border: none;\n",
              "      border-radius: 50%;\n",
              "      cursor: pointer;\n",
              "      display: none;\n",
              "      fill: #1967D2;\n",
              "      height: 32px;\n",
              "      padding: 0 0 0 0;\n",
              "      width: 32px;\n",
              "    }\n",
              "\n",
              "    .colab-df-convert:hover {\n",
              "      background-color: #E2EBFA;\n",
              "      box-shadow: 0px 1px 2px rgba(60, 64, 67, 0.3), 0px 1px 3px 1px rgba(60, 64, 67, 0.15);\n",
              "      fill: #174EA6;\n",
              "    }\n",
              "\n",
              "    .colab-df-buttons div {\n",
              "      margin-bottom: 4px;\n",
              "    }\n",
              "\n",
              "    [theme=dark] .colab-df-convert {\n",
              "      background-color: #3B4455;\n",
              "      fill: #D2E3FC;\n",
              "    }\n",
              "\n",
              "    [theme=dark] .colab-df-convert:hover {\n",
              "      background-color: #434B5C;\n",
              "      box-shadow: 0px 1px 3px 1px rgba(0, 0, 0, 0.15);\n",
              "      filter: drop-shadow(0px 1px 2px rgba(0, 0, 0, 0.3));\n",
              "      fill: #FFFFFF;\n",
              "    }\n",
              "  </style>\n",
              "\n",
              "    <script>\n",
              "      const buttonEl =\n",
              "        document.querySelector('#df-fed2fd33-9c04-4cf0-98e1-a527dfc02c3c button.colab-df-convert');\n",
              "      buttonEl.style.display =\n",
              "        google.colab.kernel.accessAllowed ? 'block' : 'none';\n",
              "\n",
              "      async function convertToInteractive(key) {\n",
              "        const element = document.querySelector('#df-fed2fd33-9c04-4cf0-98e1-a527dfc02c3c');\n",
              "        const dataTable =\n",
              "          await google.colab.kernel.invokeFunction('convertToInteractive',\n",
              "                                                    [key], {});\n",
              "        if (!dataTable) return;\n",
              "\n",
              "        const docLinkHtml = 'Like what you see? Visit the ' +\n",
              "          '<a target=\"_blank\" href=https://colab.research.google.com/notebooks/data_table.ipynb>data table notebook</a>'\n",
              "          + ' to learn more about interactive tables.';\n",
              "        element.innerHTML = '';\n",
              "        dataTable['output_type'] = 'display_data';\n",
              "        await google.colab.output.renderOutput(dataTable, element);\n",
              "        const docLink = document.createElement('div');\n",
              "        docLink.innerHTML = docLinkHtml;\n",
              "        element.appendChild(docLink);\n",
              "      }\n",
              "    </script>\n",
              "  </div>\n",
              "\n",
              "\n",
              "<div id=\"df-8a39b86d-80b3-4ef2-8310-0b25fb89eedb\">\n",
              "  <button class=\"colab-df-quickchart\" onclick=\"quickchart('df-8a39b86d-80b3-4ef2-8310-0b25fb89eedb')\"\n",
              "            title=\"Suggest charts\"\n",
              "            style=\"display:none;\">\n",
              "\n",
              "<svg xmlns=\"http://www.w3.org/2000/svg\" height=\"24px\"viewBox=\"0 0 24 24\"\n",
              "     width=\"24px\">\n",
              "    <g>\n",
              "        <path d=\"M19 3H5c-1.1 0-2 .9-2 2v14c0 1.1.9 2 2 2h14c1.1 0 2-.9 2-2V5c0-1.1-.9-2-2-2zM9 17H7v-7h2v7zm4 0h-2V7h2v10zm4 0h-2v-4h2v4z\"/>\n",
              "    </g>\n",
              "</svg>\n",
              "  </button>\n",
              "\n",
              "<style>\n",
              "  .colab-df-quickchart {\n",
              "      --bg-color: #E8F0FE;\n",
              "      --fill-color: #1967D2;\n",
              "      --hover-bg-color: #E2EBFA;\n",
              "      --hover-fill-color: #174EA6;\n",
              "      --disabled-fill-color: #AAA;\n",
              "      --disabled-bg-color: #DDD;\n",
              "  }\n",
              "\n",
              "  [theme=dark] .colab-df-quickchart {\n",
              "      --bg-color: #3B4455;\n",
              "      --fill-color: #D2E3FC;\n",
              "      --hover-bg-color: #434B5C;\n",
              "      --hover-fill-color: #FFFFFF;\n",
              "      --disabled-bg-color: #3B4455;\n",
              "      --disabled-fill-color: #666;\n",
              "  }\n",
              "\n",
              "  .colab-df-quickchart {\n",
              "    background-color: var(--bg-color);\n",
              "    border: none;\n",
              "    border-radius: 50%;\n",
              "    cursor: pointer;\n",
              "    display: none;\n",
              "    fill: var(--fill-color);\n",
              "    height: 32px;\n",
              "    padding: 0;\n",
              "    width: 32px;\n",
              "  }\n",
              "\n",
              "  .colab-df-quickchart:hover {\n",
              "    background-color: var(--hover-bg-color);\n",
              "    box-shadow: 0 1px 2px rgba(60, 64, 67, 0.3), 0 1px 3px 1px rgba(60, 64, 67, 0.15);\n",
              "    fill: var(--button-hover-fill-color);\n",
              "  }\n",
              "\n",
              "  .colab-df-quickchart-complete:disabled,\n",
              "  .colab-df-quickchart-complete:disabled:hover {\n",
              "    background-color: var(--disabled-bg-color);\n",
              "    fill: var(--disabled-fill-color);\n",
              "    box-shadow: none;\n",
              "  }\n",
              "\n",
              "  .colab-df-spinner {\n",
              "    border: 2px solid var(--fill-color);\n",
              "    border-color: transparent;\n",
              "    border-bottom-color: var(--fill-color);\n",
              "    animation:\n",
              "      spin 1s steps(1) infinite;\n",
              "  }\n",
              "\n",
              "  @keyframes spin {\n",
              "    0% {\n",
              "      border-color: transparent;\n",
              "      border-bottom-color: var(--fill-color);\n",
              "      border-left-color: var(--fill-color);\n",
              "    }\n",
              "    20% {\n",
              "      border-color: transparent;\n",
              "      border-left-color: var(--fill-color);\n",
              "      border-top-color: var(--fill-color);\n",
              "    }\n",
              "    30% {\n",
              "      border-color: transparent;\n",
              "      border-left-color: var(--fill-color);\n",
              "      border-top-color: var(--fill-color);\n",
              "      border-right-color: var(--fill-color);\n",
              "    }\n",
              "    40% {\n",
              "      border-color: transparent;\n",
              "      border-right-color: var(--fill-color);\n",
              "      border-top-color: var(--fill-color);\n",
              "    }\n",
              "    60% {\n",
              "      border-color: transparent;\n",
              "      border-right-color: var(--fill-color);\n",
              "    }\n",
              "    80% {\n",
              "      border-color: transparent;\n",
              "      border-right-color: var(--fill-color);\n",
              "      border-bottom-color: var(--fill-color);\n",
              "    }\n",
              "    90% {\n",
              "      border-color: transparent;\n",
              "      border-bottom-color: var(--fill-color);\n",
              "    }\n",
              "  }\n",
              "</style>\n",
              "\n",
              "  <script>\n",
              "    async function quickchart(key) {\n",
              "      const quickchartButtonEl =\n",
              "        document.querySelector('#' + key + ' button');\n",
              "      quickchartButtonEl.disabled = true;  // To prevent multiple clicks.\n",
              "      quickchartButtonEl.classList.add('colab-df-spinner');\n",
              "      try {\n",
              "        const charts = await google.colab.kernel.invokeFunction(\n",
              "            'suggestCharts', [key], {});\n",
              "      } catch (error) {\n",
              "        console.error('Error during call to suggestCharts:', error);\n",
              "      }\n",
              "      quickchartButtonEl.classList.remove('colab-df-spinner');\n",
              "      quickchartButtonEl.classList.add('colab-df-quickchart-complete');\n",
              "    }\n",
              "    (() => {\n",
              "      let quickchartButtonEl =\n",
              "        document.querySelector('#df-8a39b86d-80b3-4ef2-8310-0b25fb89eedb button');\n",
              "      quickchartButtonEl.style.display =\n",
              "        google.colab.kernel.accessAllowed ? 'block' : 'none';\n",
              "    })();\n",
              "  </script>\n",
              "</div>\n",
              "\n",
              "    </div>\n",
              "  </div>\n"
            ],
            "application/vnd.google.colaboratory.intrinsic+json": {
              "type": "dataframe",
              "variable_name": "df_ready"
            }
          },
          "metadata": {},
          "execution_count": 43
        }
      ]
    },
    {
      "cell_type": "code",
      "source": [
        "df_ready.to_csv(\"df_ready.csv\", index= False)"
      ],
      "metadata": {
        "id": "kQbPJSJWSg6u"
      },
      "execution_count": null,
      "outputs": []
    },
    {
      "cell_type": "code",
      "source": [],
      "metadata": {
        "id": "tyXkOK8gkTcU"
      },
      "execution_count": null,
      "outputs": []
    }
  ]
}